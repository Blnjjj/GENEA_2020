{
 "cells": [
  {
   "cell_type": "code",
   "execution_count": 8,
   "metadata": {},
   "outputs": [],
   "source": [
    "# pymo can be found in baselines\n",
    "from pymo.parsers import BVHParser\n",
    "from os.path import join\n",
    "from os import listdir"
   ]
  },
  {
   "cell_type": "code",
   "execution_count": 7,
   "metadata": {},
   "outputs": [],
   "source": [
    "parser = BVHParser()"
   ]
  },
  {
   "cell_type": "code",
   "execution_count": 10,
   "metadata": {},
   "outputs": [],
   "source": [
    "genea_data = '../GENEA_2020_Data/'\n",
    "genea_motion = join(genea_data, 'Motion')\n",
    "sample_name = listdir(genea_motion)[0]\n",
    "sample_path = join(genea_motion, sample_name)\n",
    "sample = parser.parse(sample_path)"
   ]
  },
  {
   "cell_type": "code",
   "execution_count": 14,
   "metadata": {},
   "outputs": [
    {
     "data": {
      "text/plain": [
       "{'parent': None,\n",
       " 'channels': ['Xposition',\n",
       "  'Yposition',\n",
       "  'Zposition',\n",
       "  'Zrotation',\n",
       "  'Xrotation',\n",
       "  'Yrotation'],\n",
       " 'offsets': [-14.6414, 90.2777, -84.916],\n",
       " 'order': 'ZXY',\n",
       " 'children': ['Spine', 'RightUpLeg', 'LeftUpLeg']}"
      ]
     },
     "execution_count": 14,
     "metadata": {},
     "output_type": "execute_result"
    }
   ],
   "source": [
    "sample.skeleton['Hips']"
   ]
  },
  {
   "cell_type": "code",
   "execution_count": 17,
   "metadata": {},
   "outputs": [
    {
     "data": {
      "text/plain": [
       "{'parent': 'Hips',\n",
       " 'channels': ['Zrotation', 'Xrotation', 'Yrotation'],\n",
       " 'offsets': [0.0, 13.2085, -1.60436],\n",
       " 'order': 'ZXY',\n",
       " 'children': ['Spine1']}"
      ]
     },
     "execution_count": 17,
     "metadata": {},
     "output_type": "execute_result"
    }
   ],
   "source": [
    "sample.skeleton['Spine']"
   ]
  },
  {
   "cell_type": "code",
   "execution_count": 16,
   "metadata": {},
   "outputs": [
    {
     "data": {
      "text/html": [
       "<div>\n",
       "<style scoped>\n",
       "    .dataframe tbody tr th:only-of-type {\n",
       "        vertical-align: middle;\n",
       "    }\n",
       "\n",
       "    .dataframe tbody tr th {\n",
       "        vertical-align: top;\n",
       "    }\n",
       "\n",
       "    .dataframe thead th {\n",
       "        text-align: right;\n",
       "    }\n",
       "</style>\n",
       "<table border=\"1\" class=\"dataframe\">\n",
       "  <thead>\n",
       "    <tr style=\"text-align: right;\">\n",
       "      <th></th>\n",
       "      <th>Hips_Xposition</th>\n",
       "      <th>Hips_Yposition</th>\n",
       "      <th>Hips_Zposition</th>\n",
       "      <th>Hips_Zrotation</th>\n",
       "      <th>Hips_Xrotation</th>\n",
       "      <th>Hips_Yrotation</th>\n",
       "      <th>Spine_Zrotation</th>\n",
       "      <th>Spine_Xrotation</th>\n",
       "      <th>Spine_Yrotation</th>\n",
       "      <th>Spine1_Zrotation</th>\n",
       "      <th>...</th>\n",
       "      <th>LeftLeg_Yrotation</th>\n",
       "      <th>LeftFoot_Zrotation</th>\n",
       "      <th>LeftFoot_Xrotation</th>\n",
       "      <th>LeftFoot_Yrotation</th>\n",
       "      <th>LeftForeFoot_Zrotation</th>\n",
       "      <th>LeftForeFoot_Xrotation</th>\n",
       "      <th>LeftForeFoot_Yrotation</th>\n",
       "      <th>LeftToeBase_Zrotation</th>\n",
       "      <th>LeftToeBase_Xrotation</th>\n",
       "      <th>LeftToeBase_Yrotation</th>\n",
       "    </tr>\n",
       "  </thead>\n",
       "  <tbody>\n",
       "    <tr>\n",
       "      <th>00:00:00</th>\n",
       "      <td>22.7118</td>\n",
       "      <td>88.9400</td>\n",
       "      <td>-45.1962</td>\n",
       "      <td>-4.096790</td>\n",
       "      <td>-6.512740</td>\n",
       "      <td>-171.669</td>\n",
       "      <td>-0.653646</td>\n",
       "      <td>0.866667</td>\n",
       "      <td>-1.758470</td>\n",
       "      <td>-0.287230</td>\n",
       "      <td>...</td>\n",
       "      <td>-0.000034</td>\n",
       "      <td>-7.981430</td>\n",
       "      <td>-15.8052</td>\n",
       "      <td>-1.322550</td>\n",
       "      <td>7.951390e-16</td>\n",
       "      <td>0.000000e+00</td>\n",
       "      <td>9.541660e-15</td>\n",
       "      <td>-2.108000e-07</td>\n",
       "      <td>-11.43310</td>\n",
       "      <td>6.959490e-06</td>\n",
       "    </tr>\n",
       "    <tr>\n",
       "      <th>00:00:00.016666</th>\n",
       "      <td>22.3665</td>\n",
       "      <td>88.8070</td>\n",
       "      <td>-44.3941</td>\n",
       "      <td>-4.073170</td>\n",
       "      <td>-6.319070</td>\n",
       "      <td>-171.177</td>\n",
       "      <td>-0.776048</td>\n",
       "      <td>0.968613</td>\n",
       "      <td>-1.778360</td>\n",
       "      <td>-0.276753</td>\n",
       "      <td>...</td>\n",
       "      <td>-0.000016</td>\n",
       "      <td>-7.915900</td>\n",
       "      <td>-16.8010</td>\n",
       "      <td>-1.500750</td>\n",
       "      <td>7.951390e-16</td>\n",
       "      <td>-1.590280e-15</td>\n",
       "      <td>3.180550e-15</td>\n",
       "      <td>9.347880e-07</td>\n",
       "      <td>-10.27280</td>\n",
       "      <td>7.279150e-06</td>\n",
       "    </tr>\n",
       "    <tr>\n",
       "      <th>00:00:00.033333</th>\n",
       "      <td>22.0141</td>\n",
       "      <td>88.6690</td>\n",
       "      <td>-43.5769</td>\n",
       "      <td>-4.157390</td>\n",
       "      <td>-6.144380</td>\n",
       "      <td>-170.715</td>\n",
       "      <td>-0.957417</td>\n",
       "      <td>1.104790</td>\n",
       "      <td>-1.800450</td>\n",
       "      <td>-0.279364</td>\n",
       "      <td>...</td>\n",
       "      <td>-0.000023</td>\n",
       "      <td>-7.716610</td>\n",
       "      <td>-17.7210</td>\n",
       "      <td>-1.767320</td>\n",
       "      <td>7.951390e-16</td>\n",
       "      <td>1.590280e-15</td>\n",
       "      <td>-0.000000e+00</td>\n",
       "      <td>3.345560e-07</td>\n",
       "      <td>-9.06201</td>\n",
       "      <td>-5.091070e-07</td>\n",
       "    </tr>\n",
       "    <tr>\n",
       "      <th>00:00:00.050000</th>\n",
       "      <td>21.6394</td>\n",
       "      <td>88.5311</td>\n",
       "      <td>-42.7460</td>\n",
       "      <td>-4.243130</td>\n",
       "      <td>-5.970340</td>\n",
       "      <td>-170.253</td>\n",
       "      <td>-1.138850</td>\n",
       "      <td>1.241010</td>\n",
       "      <td>-1.822110</td>\n",
       "      <td>-0.281986</td>\n",
       "      <td>...</td>\n",
       "      <td>-0.000016</td>\n",
       "      <td>-7.520150</td>\n",
       "      <td>-18.6415</td>\n",
       "      <td>-2.031030</td>\n",
       "      <td>3.975690e-16</td>\n",
       "      <td>7.951390e-16</td>\n",
       "      <td>-0.000000e+00</td>\n",
       "      <td>3.067990e-08</td>\n",
       "      <td>-7.85124</td>\n",
       "      <td>-1.859750e-06</td>\n",
       "    </tr>\n",
       "    <tr>\n",
       "      <th>00:00:00.066666</th>\n",
       "      <td>21.2468</td>\n",
       "      <td>88.3913</td>\n",
       "      <td>-41.9203</td>\n",
       "      <td>-4.474880</td>\n",
       "      <td>-5.797230</td>\n",
       "      <td>-169.787</td>\n",
       "      <td>-1.433010</td>\n",
       "      <td>1.373970</td>\n",
       "      <td>-1.818550</td>\n",
       "      <td>-0.295100</td>\n",
       "      <td>...</td>\n",
       "      <td>-0.000017</td>\n",
       "      <td>-6.711270</td>\n",
       "      <td>-19.5258</td>\n",
       "      <td>-1.401210</td>\n",
       "      <td>-3.975690e-16</td>\n",
       "      <td>0.000000e+00</td>\n",
       "      <td>-0.000000e+00</td>\n",
       "      <td>1.626880e-10</td>\n",
       "      <td>-6.63176</td>\n",
       "      <td>3.739820e-06</td>\n",
       "    </tr>\n",
       "    <tr>\n",
       "      <th>...</th>\n",
       "      <td>...</td>\n",
       "      <td>...</td>\n",
       "      <td>...</td>\n",
       "      <td>...</td>\n",
       "      <td>...</td>\n",
       "      <td>...</td>\n",
       "      <td>...</td>\n",
       "      <td>...</td>\n",
       "      <td>...</td>\n",
       "      <td>...</td>\n",
       "      <td>...</td>\n",
       "      <td>...</td>\n",
       "      <td>...</td>\n",
       "      <td>...</td>\n",
       "      <td>...</td>\n",
       "      <td>...</td>\n",
       "      <td>...</td>\n",
       "      <td>...</td>\n",
       "      <td>...</td>\n",
       "      <td>...</td>\n",
       "      <td>...</td>\n",
       "    </tr>\n",
       "    <tr>\n",
       "      <th>00:11:58.418103</th>\n",
       "      <td>-123.2950</td>\n",
       "      <td>90.9639</td>\n",
       "      <td>-227.6550</td>\n",
       "      <td>-0.665312</td>\n",
       "      <td>-0.119587</td>\n",
       "      <td>-125.449</td>\n",
       "      <td>-1.784240</td>\n",
       "      <td>-0.325941</td>\n",
       "      <td>0.707989</td>\n",
       "      <td>-1.386240</td>\n",
       "      <td>...</td>\n",
       "      <td>-0.000015</td>\n",
       "      <td>0.368845</td>\n",
       "      <td>-11.5387</td>\n",
       "      <td>-1.741650</td>\n",
       "      <td>-7.951390e-16</td>\n",
       "      <td>0.000000e+00</td>\n",
       "      <td>-0.000000e+00</td>\n",
       "      <td>4.686900e-06</td>\n",
       "      <td>-10.29850</td>\n",
       "      <td>1.612860e-05</td>\n",
       "    </tr>\n",
       "    <tr>\n",
       "      <th>00:11:58.434770</th>\n",
       "      <td>-124.1660</td>\n",
       "      <td>90.8377</td>\n",
       "      <td>-228.1250</td>\n",
       "      <td>-0.395686</td>\n",
       "      <td>-0.309614</td>\n",
       "      <td>-125.646</td>\n",
       "      <td>-2.006640</td>\n",
       "      <td>-0.582677</td>\n",
       "      <td>0.664534</td>\n",
       "      <td>-1.396600</td>\n",
       "      <td>...</td>\n",
       "      <td>0.000019</td>\n",
       "      <td>0.566816</td>\n",
       "      <td>-11.4687</td>\n",
       "      <td>-1.131430</td>\n",
       "      <td>-2.385420e-15</td>\n",
       "      <td>-3.975690e-15</td>\n",
       "      <td>3.180550e-15</td>\n",
       "      <td>3.789700e-06</td>\n",
       "      <td>-9.98783</td>\n",
       "      <td>3.569530e-07</td>\n",
       "    </tr>\n",
       "    <tr>\n",
       "      <th>00:11:58.451436</th>\n",
       "      <td>-125.0740</td>\n",
       "      <td>90.7072</td>\n",
       "      <td>-228.6040</td>\n",
       "      <td>-0.126730</td>\n",
       "      <td>-0.500580</td>\n",
       "      <td>-125.842</td>\n",
       "      <td>-2.229290</td>\n",
       "      <td>-0.839272</td>\n",
       "      <td>0.620093</td>\n",
       "      <td>-1.406960</td>\n",
       "      <td>...</td>\n",
       "      <td>-0.000010</td>\n",
       "      <td>0.763478</td>\n",
       "      <td>-11.3967</td>\n",
       "      <td>-0.520198</td>\n",
       "      <td>1.590280e-15</td>\n",
       "      <td>1.192710e-15</td>\n",
       "      <td>4.770830e-15</td>\n",
       "      <td>-2.154540e-06</td>\n",
       "      <td>-9.67663</td>\n",
       "      <td>-3.963270e-06</td>\n",
       "    </tr>\n",
       "    <tr>\n",
       "      <th>00:11:58.468103</th>\n",
       "      <td>-126.0180</td>\n",
       "      <td>90.5736</td>\n",
       "      <td>-229.0330</td>\n",
       "      <td>0.106276</td>\n",
       "      <td>-0.702188</td>\n",
       "      <td>-125.999</td>\n",
       "      <td>-2.491700</td>\n",
       "      <td>-1.077920</td>\n",
       "      <td>0.572682</td>\n",
       "      <td>-1.411300</td>\n",
       "      <td>...</td>\n",
       "      <td>-0.000009</td>\n",
       "      <td>0.441888</td>\n",
       "      <td>-11.5170</td>\n",
       "      <td>1.453660</td>\n",
       "      <td>-3.180550e-15</td>\n",
       "      <td>-1.192710e-15</td>\n",
       "      <td>3.180550e-15</td>\n",
       "      <td>3.130360e-06</td>\n",
       "      <td>-8.84771</td>\n",
       "      <td>1.036550e-05</td>\n",
       "    </tr>\n",
       "    <tr>\n",
       "      <th>00:11:58.484770</th>\n",
       "      <td>-126.9960</td>\n",
       "      <td>90.4308</td>\n",
       "      <td>-229.5080</td>\n",
       "      <td>0.338737</td>\n",
       "      <td>-0.904385</td>\n",
       "      <td>-126.156</td>\n",
       "      <td>-2.754270</td>\n",
       "      <td>-1.316320</td>\n",
       "      <td>0.524207</td>\n",
       "      <td>-1.415630</td>\n",
       "      <td>...</td>\n",
       "      <td>-0.000008</td>\n",
       "      <td>0.124977</td>\n",
       "      <td>-11.6482</td>\n",
       "      <td>3.427790</td>\n",
       "      <td>1.590280e-15</td>\n",
       "      <td>2.584200e-15</td>\n",
       "      <td>-0.000000e+00</td>\n",
       "      <td>1.892610e-06</td>\n",
       "      <td>-8.01955</td>\n",
       "      <td>1.495780e-05</td>\n",
       "    </tr>\n",
       "  </tbody>\n",
       "</table>\n",
       "<p>43110 rows × 174 columns</p>\n",
       "</div>"
      ],
      "text/plain": [
       "                 Hips_Xposition  Hips_Yposition  Hips_Zposition  \\\n",
       "00:00:00                22.7118         88.9400        -45.1962   \n",
       "00:00:00.016666         22.3665         88.8070        -44.3941   \n",
       "00:00:00.033333         22.0141         88.6690        -43.5769   \n",
       "00:00:00.050000         21.6394         88.5311        -42.7460   \n",
       "00:00:00.066666         21.2468         88.3913        -41.9203   \n",
       "...                         ...             ...             ...   \n",
       "00:11:58.418103       -123.2950         90.9639       -227.6550   \n",
       "00:11:58.434770       -124.1660         90.8377       -228.1250   \n",
       "00:11:58.451436       -125.0740         90.7072       -228.6040   \n",
       "00:11:58.468103       -126.0180         90.5736       -229.0330   \n",
       "00:11:58.484770       -126.9960         90.4308       -229.5080   \n",
       "\n",
       "                 Hips_Zrotation  Hips_Xrotation  Hips_Yrotation  \\\n",
       "00:00:00              -4.096790       -6.512740        -171.669   \n",
       "00:00:00.016666       -4.073170       -6.319070        -171.177   \n",
       "00:00:00.033333       -4.157390       -6.144380        -170.715   \n",
       "00:00:00.050000       -4.243130       -5.970340        -170.253   \n",
       "00:00:00.066666       -4.474880       -5.797230        -169.787   \n",
       "...                         ...             ...             ...   \n",
       "00:11:58.418103       -0.665312       -0.119587        -125.449   \n",
       "00:11:58.434770       -0.395686       -0.309614        -125.646   \n",
       "00:11:58.451436       -0.126730       -0.500580        -125.842   \n",
       "00:11:58.468103        0.106276       -0.702188        -125.999   \n",
       "00:11:58.484770        0.338737       -0.904385        -126.156   \n",
       "\n",
       "                 Spine_Zrotation  Spine_Xrotation  Spine_Yrotation  \\\n",
       "00:00:00               -0.653646         0.866667        -1.758470   \n",
       "00:00:00.016666        -0.776048         0.968613        -1.778360   \n",
       "00:00:00.033333        -0.957417         1.104790        -1.800450   \n",
       "00:00:00.050000        -1.138850         1.241010        -1.822110   \n",
       "00:00:00.066666        -1.433010         1.373970        -1.818550   \n",
       "...                          ...              ...              ...   \n",
       "00:11:58.418103        -1.784240        -0.325941         0.707989   \n",
       "00:11:58.434770        -2.006640        -0.582677         0.664534   \n",
       "00:11:58.451436        -2.229290        -0.839272         0.620093   \n",
       "00:11:58.468103        -2.491700        -1.077920         0.572682   \n",
       "00:11:58.484770        -2.754270        -1.316320         0.524207   \n",
       "\n",
       "                 Spine1_Zrotation  ...  LeftLeg_Yrotation  LeftFoot_Zrotation  \\\n",
       "00:00:00                -0.287230  ...          -0.000034           -7.981430   \n",
       "00:00:00.016666         -0.276753  ...          -0.000016           -7.915900   \n",
       "00:00:00.033333         -0.279364  ...          -0.000023           -7.716610   \n",
       "00:00:00.050000         -0.281986  ...          -0.000016           -7.520150   \n",
       "00:00:00.066666         -0.295100  ...          -0.000017           -6.711270   \n",
       "...                           ...  ...                ...                 ...   \n",
       "00:11:58.418103         -1.386240  ...          -0.000015            0.368845   \n",
       "00:11:58.434770         -1.396600  ...           0.000019            0.566816   \n",
       "00:11:58.451436         -1.406960  ...          -0.000010            0.763478   \n",
       "00:11:58.468103         -1.411300  ...          -0.000009            0.441888   \n",
       "00:11:58.484770         -1.415630  ...          -0.000008            0.124977   \n",
       "\n",
       "                 LeftFoot_Xrotation  LeftFoot_Yrotation  \\\n",
       "00:00:00                   -15.8052           -1.322550   \n",
       "00:00:00.016666            -16.8010           -1.500750   \n",
       "00:00:00.033333            -17.7210           -1.767320   \n",
       "00:00:00.050000            -18.6415           -2.031030   \n",
       "00:00:00.066666            -19.5258           -1.401210   \n",
       "...                             ...                 ...   \n",
       "00:11:58.418103            -11.5387           -1.741650   \n",
       "00:11:58.434770            -11.4687           -1.131430   \n",
       "00:11:58.451436            -11.3967           -0.520198   \n",
       "00:11:58.468103            -11.5170            1.453660   \n",
       "00:11:58.484770            -11.6482            3.427790   \n",
       "\n",
       "                 LeftForeFoot_Zrotation  LeftForeFoot_Xrotation  \\\n",
       "00:00:00                   7.951390e-16            0.000000e+00   \n",
       "00:00:00.016666            7.951390e-16           -1.590280e-15   \n",
       "00:00:00.033333            7.951390e-16            1.590280e-15   \n",
       "00:00:00.050000            3.975690e-16            7.951390e-16   \n",
       "00:00:00.066666           -3.975690e-16            0.000000e+00   \n",
       "...                                 ...                     ...   \n",
       "00:11:58.418103           -7.951390e-16            0.000000e+00   \n",
       "00:11:58.434770           -2.385420e-15           -3.975690e-15   \n",
       "00:11:58.451436            1.590280e-15            1.192710e-15   \n",
       "00:11:58.468103           -3.180550e-15           -1.192710e-15   \n",
       "00:11:58.484770            1.590280e-15            2.584200e-15   \n",
       "\n",
       "                 LeftForeFoot_Yrotation  LeftToeBase_Zrotation  \\\n",
       "00:00:00                   9.541660e-15          -2.108000e-07   \n",
       "00:00:00.016666            3.180550e-15           9.347880e-07   \n",
       "00:00:00.033333           -0.000000e+00           3.345560e-07   \n",
       "00:00:00.050000           -0.000000e+00           3.067990e-08   \n",
       "00:00:00.066666           -0.000000e+00           1.626880e-10   \n",
       "...                                 ...                    ...   \n",
       "00:11:58.418103           -0.000000e+00           4.686900e-06   \n",
       "00:11:58.434770            3.180550e-15           3.789700e-06   \n",
       "00:11:58.451436            4.770830e-15          -2.154540e-06   \n",
       "00:11:58.468103            3.180550e-15           3.130360e-06   \n",
       "00:11:58.484770           -0.000000e+00           1.892610e-06   \n",
       "\n",
       "                 LeftToeBase_Xrotation  LeftToeBase_Yrotation  \n",
       "00:00:00                     -11.43310           6.959490e-06  \n",
       "00:00:00.016666              -10.27280           7.279150e-06  \n",
       "00:00:00.033333               -9.06201          -5.091070e-07  \n",
       "00:00:00.050000               -7.85124          -1.859750e-06  \n",
       "00:00:00.066666               -6.63176           3.739820e-06  \n",
       "...                                ...                    ...  \n",
       "00:11:58.418103              -10.29850           1.612860e-05  \n",
       "00:11:58.434770               -9.98783           3.569530e-07  \n",
       "00:11:58.451436               -9.67663          -3.963270e-06  \n",
       "00:11:58.468103               -8.84771           1.036550e-05  \n",
       "00:11:58.484770               -8.01955           1.495780e-05  \n",
       "\n",
       "[43110 rows x 174 columns]"
      ]
     },
     "execution_count": 16,
     "metadata": {},
     "output_type": "execute_result"
    }
   ],
   "source": [
    "sample.values"
   ]
  },
  {
   "cell_type": "code",
   "execution_count": 18,
   "metadata": {},
   "outputs": [],
   "source": [
    "genea_features = join(genea_data, 'Features')\n",
    "feats = join(genea_features,listdir(genea_features)[0])"
   ]
  },
  {
   "cell_type": "code",
   "execution_count": 21,
   "metadata": {},
   "outputs": [],
   "source": [
    "import numpy as np\n",
    "data =  np.load(feats)"
   ]
  },
  {
   "cell_type": "code",
   "execution_count": 22,
   "metadata": {},
   "outputs": [
    {
     "data": {
      "text/plain": [
       "<numpy.lib.npyio.NpzFile at 0x22e85caee80>"
      ]
     },
     "execution_count": 22,
     "metadata": {},
     "output_type": "execute_result"
    }
   ],
   "source": [
    "data"
   ]
  },
  {
   "cell_type": "code",
   "execution_count": 23,
   "metadata": {},
   "outputs": [
    {
     "data": {
      "text/plain": [
       "['clips']"
      ]
     },
     "execution_count": 23,
     "metadata": {},
     "output_type": "execute_result"
    }
   ],
   "source": [
    "data.files"
   ]
  },
  {
   "cell_type": "code",
   "execution_count": 25,
   "metadata": {},
   "outputs": [],
   "source": [
    "clip = data['clips']"
   ]
  },
  {
   "cell_type": "code",
   "execution_count": 26,
   "metadata": {},
   "outputs": [
    {
     "data": {
      "text/plain": [
       "(14370, 45)"
      ]
     },
     "execution_count": 26,
     "metadata": {},
     "output_type": "execute_result"
    }
   ],
   "source": [
    "clip.shape"
   ]
  },
  {
   "cell_type": "code",
   "execution_count": 29,
   "metadata": {},
   "outputs": [
    {
     "data": {
      "text/plain": [
       "71"
      ]
     },
     "execution_count": 29,
     "metadata": {},
     "output_type": "execute_result"
    }
   ],
   "source": [
    "len(sample.skeleton.keys())"
   ]
  },
  {
   "cell_type": "code",
   "execution_count": 27,
   "metadata": {},
   "outputs": [
    {
     "data": {
      "text/plain": [
       "array([[-7.05474337e-02, -2.66187640e-01,  5.12433715e-01, ...,\n",
       "         1.52999007e-02, -3.06038914e-02, -1.11750422e-02],\n",
       "       [-7.11059329e-02, -2.37294610e-01,  5.79347864e-01, ...,\n",
       "         2.19732044e-02, -3.15842670e-02, -1.95298210e-02],\n",
       "       [-8.70073616e-02, -2.62866502e-01,  6.35743789e-01, ...,\n",
       "         2.91623928e-02, -3.09355374e-02, -3.58508638e-02],\n",
       "       ...,\n",
       "       [-6.18232886e-03, -2.62492513e-01,  4.68267014e-02, ...,\n",
       "         1.32734479e-05,  1.18494708e-02, -3.14230234e-02],\n",
       "       [-5.31138338e-03, -2.67410275e-01,  3.94743353e-02, ...,\n",
       "        -3.42198520e-03,  1.24455088e-02, -3.07549566e-02],\n",
       "       [-6.23789926e-03, -2.62219312e-01,  4.72963026e-02, ...,\n",
       "        -1.48566077e-02,  1.05361391e-02, -3.88281095e-02]])"
      ]
     },
     "execution_count": 27,
     "metadata": {},
     "output_type": "execute_result"
    }
   ],
   "source": [
    "clip"
   ]
  },
  {
   "cell_type": "code",
   "execution_count": 30,
   "metadata": {},
   "outputs": [],
   "source": [
    "import matplotlib.pyplot as plt\n",
    "\n",
    "%matplotlib inline"
   ]
  },
  {
   "cell_type": "code",
   "execution_count": 32,
   "metadata": {},
   "outputs": [],
   "source": [
    "x = clip[0][::3]\n",
    "y = clip[0][1::3]\n",
    "z = clip[0][2::3]"
   ]
  },
  {
   "cell_type": "code",
   "execution_count": 36,
   "metadata": {},
   "outputs": [
    {
     "data": {
      "text/plain": [
       "<matplotlib.collections.PathCollection at 0x22e8874ae80>"
      ]
     },
     "execution_count": 36,
     "metadata": {},
     "output_type": "execute_result"
    },
    {
     "data": {
      "image/png": "[encoded data removed]",
      "text/plain": [
       "<Figure size 432x288 with 1 Axes>"
      ]
     },
     "metadata": {
      "needs_background": "light"
     },
     "output_type": "display_data"
    }
   ],
   "source": [
    "plt.scatter(y, x)"
   ]
  },
  {
   "cell_type": "code",
   "execution_count": 37,
   "metadata": {},
   "outputs": [
    {
     "data": {
      "text/plain": [
       "<matplotlib.collections.PathCollection at 0x22e87dd6cc0>"
      ]
     },
     "execution_count": 37,
     "metadata": {},
     "output_type": "execute_result"
    },
    {
     "data": {
      "image/png": "[encoded data removed]",
      "text/plain": [
       "<Figure size 432x288 with 1 Axes>"
      ]
     },
     "metadata": {
      "needs_background": "light"
     },
     "output_type": "display_data"
    }
   ],
   "source": [
    "plt.scatter(x, y)"
   ]
  },
  {
   "cell_type": "code",
   "execution_count": null,
   "metadata": {},
   "outputs": [],
   "source": []
  }
 ],
 "metadata": {
  "kernelspec": {
   "display_name": "Python 3",
   "language": "python",
   "name": "python3"
  },
  "language_info": {
   "codemirror_mode": {
    "name": "ipython",
    "version": 3
   },
   "file_extension": ".py",
   "mimetype": "text/x-python",
   "name": "python",
   "nbconvert_exporter": "python",
   "pygments_lexer": "ipython3",
   "version": "3.7.3"
  }
 },
 "nbformat": 4,
 "nbformat_minor": 4
}
